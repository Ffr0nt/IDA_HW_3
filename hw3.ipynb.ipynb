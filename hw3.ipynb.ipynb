{
 "cells": [
  {
   "cell_type": "markdown",
   "metadata": {
    "id": "vKdcvMtSMpSg",
    "pycharm": {
     "name": "#%% md\n"
    }
   },
   "source": [
    "#Майнор ИАД. Домашнее задание 3. YOLO.\n",
    "\n",
    "В этом задании вы напишете и обучите свой собственный YOLO детектор. Нужно будет разобраться со статьей: понять какого формата должна быть обучающая пара (x, y), как перевести лосс из математической формулы в питоновский код - ну и конечно понять и реализовать саму архитектуру модели.\n",
    "\n",
    "Выборка на котрой мы будем обучать модель состоит из разнообразных фотографий яблок, бананов и апельсинов. Данные скачиваем [отсюда](https://drive.google.com/file/d/1d8GSfZoWbraWCSUhX78yl4CnMFYE-5n3/view?usp=sharing).\n",
    "\n",
    "Баллы за ДЗ распределены следующим образом: \n",
    "- Выборка для YoloV1 - 2 балла\n",
    "- YOLO модель - 2 балла\n",
    "- YOLO Loss - 3 балла\n",
    "- Вспомогательные функции - 2 балла\n",
    "- Обучение и расчет метрик - 2 балла\n",
    "\n",
    "Для построения и обучения можно использовать как pytorch, так и pytorch-lightning.\n",
    "\n",
    "Да-да, баллов в сумме получается 11"
   ]
  },
  {
   "cell_type": "code",
   "execution_count": 6,
   "metadata": {
    "colab": {
     "base_uri": "https://localhost:8080/"
    },
    "id": "TY4niK1xMpSg",
    "outputId": "1810d5cf-5d4d-4b5b-db31-5a220ee2b74d",
    "pycharm": {
     "name": "#%%\n"
    }
   },
   "outputs": [
    {
     "name": "stdout",
     "output_type": "stream",
     "text": [
      "Requirement already satisfied: xmltodict in /Users/fedor/opt/anaconda3/lib/python3.8/site-packages (0.13.0)\r\n",
      "Requirement already satisfied: pytorch-lightning in /Users/fedor/opt/anaconda3/lib/python3.8/site-packages (1.8.3.post1)\r\n",
      "Requirement already satisfied: PyYAML>=5.4 in /Users/fedor/opt/anaconda3/lib/python3.8/site-packages (from pytorch-lightning) (6.0)\r\n",
      "Requirement already satisfied: tensorboardX>=2.2 in /Users/fedor/opt/anaconda3/lib/python3.8/site-packages (from pytorch-lightning) (2.5.1)\r\n",
      "Requirement already satisfied: fsspec[http]>2021.06.0 in /Users/fedor/opt/anaconda3/lib/python3.8/site-packages (from pytorch-lightning) (2022.10.0)\r\n",
      "Requirement already satisfied: numpy>=1.17.2 in /Users/fedor/opt/anaconda3/lib/python3.8/site-packages (from pytorch-lightning) (1.21.5)\r\n",
      "Requirement already satisfied: typing-extensions>=4.0.0 in /Users/fedor/opt/anaconda3/lib/python3.8/site-packages (from pytorch-lightning) (4.3.0)\r\n",
      "Requirement already satisfied: tqdm>=4.57.0 in /Users/fedor/opt/anaconda3/lib/python3.8/site-packages (from pytorch-lightning) (4.64.1)\r\n",
      "Requirement already satisfied: torch>=1.9.* in /Users/fedor/opt/anaconda3/lib/python3.8/site-packages (from pytorch-lightning) (1.13.0)\r\n",
      "Requirement already satisfied: packaging>=17.0 in /Users/fedor/opt/anaconda3/lib/python3.8/site-packages (from pytorch-lightning) (21.3)\r\n",
      "Requirement already satisfied: lightning-utilities==0.3.* in /Users/fedor/opt/anaconda3/lib/python3.8/site-packages (from pytorch-lightning) (0.3.0)\r\n",
      "Requirement already satisfied: torchmetrics>=0.7.0 in /Users/fedor/opt/anaconda3/lib/python3.8/site-packages (from pytorch-lightning) (0.11.0)\r\n",
      "Requirement already satisfied: fire in /Users/fedor/opt/anaconda3/lib/python3.8/site-packages (from lightning-utilities==0.3.*->pytorch-lightning) (0.4.0)\r\n",
      "Requirement already satisfied: requests in /Users/fedor/opt/anaconda3/lib/python3.8/site-packages (from fsspec[http]>2021.06.0->pytorch-lightning) (2.28.1)\r\n",
      "Requirement already satisfied: aiohttp!=4.0.0a0,!=4.0.0a1 in /Users/fedor/opt/anaconda3/lib/python3.8/site-packages (from fsspec[http]>2021.06.0->pytorch-lightning) (3.8.3)\r\n",
      "Requirement already satisfied: pyparsing!=3.0.5,>=2.0.2 in /Users/fedor/opt/anaconda3/lib/python3.8/site-packages (from packaging>=17.0->pytorch-lightning) (3.0.9)\r\n",
      "Requirement already satisfied: protobuf<=3.20.1,>=3.8.0 in /Users/fedor/opt/anaconda3/lib/python3.8/site-packages (from tensorboardX>=2.2->pytorch-lightning) (3.20.1)\r\n",
      "Requirement already satisfied: multidict<7.0,>=4.5 in /Users/fedor/opt/anaconda3/lib/python3.8/site-packages (from aiohttp!=4.0.0a0,!=4.0.0a1->fsspec[http]>2021.06.0->pytorch-lightning) (6.0.2)\r\n",
      "Requirement already satisfied: charset-normalizer<3.0,>=2.0 in /Users/fedor/opt/anaconda3/lib/python3.8/site-packages (from aiohttp!=4.0.0a0,!=4.0.0a1->fsspec[http]>2021.06.0->pytorch-lightning) (2.1.1)\r\n",
      "Requirement already satisfied: aiosignal>=1.1.2 in /Users/fedor/opt/anaconda3/lib/python3.8/site-packages (from aiohttp!=4.0.0a0,!=4.0.0a1->fsspec[http]>2021.06.0->pytorch-lightning) (1.3.1)\r\n",
      "Requirement already satisfied: async-timeout<5.0,>=4.0.0a3 in /Users/fedor/opt/anaconda3/lib/python3.8/site-packages (from aiohttp!=4.0.0a0,!=4.0.0a1->fsspec[http]>2021.06.0->pytorch-lightning) (4.0.2)\r\n",
      "Requirement already satisfied: yarl<2.0,>=1.0 in /Users/fedor/opt/anaconda3/lib/python3.8/site-packages (from aiohttp!=4.0.0a0,!=4.0.0a1->fsspec[http]>2021.06.0->pytorch-lightning) (1.8.1)\r\n",
      "Requirement already satisfied: frozenlist>=1.1.1 in /Users/fedor/opt/anaconda3/lib/python3.8/site-packages (from aiohttp!=4.0.0a0,!=4.0.0a1->fsspec[http]>2021.06.0->pytorch-lightning) (1.3.3)\r\n",
      "Requirement already satisfied: attrs>=17.3.0 in /Users/fedor/opt/anaconda3/lib/python3.8/site-packages (from aiohttp!=4.0.0a0,!=4.0.0a1->fsspec[http]>2021.06.0->pytorch-lightning) (22.1.0)\r\n",
      "Requirement already satisfied: termcolor in /Users/fedor/opt/anaconda3/lib/python3.8/site-packages (from fire->lightning-utilities==0.3.*->pytorch-lightning) (1.1.0)\r\n",
      "Requirement already satisfied: six in /Users/fedor/opt/anaconda3/lib/python3.8/site-packages (from fire->lightning-utilities==0.3.*->pytorch-lightning) (1.16.0)\r\n",
      "Requirement already satisfied: urllib3<1.27,>=1.21.1 in /Users/fedor/opt/anaconda3/lib/python3.8/site-packages (from requests->fsspec[http]>2021.06.0->pytorch-lightning) (1.26.12)\r\n",
      "Requirement already satisfied: idna<4,>=2.5 in /Users/fedor/opt/anaconda3/lib/python3.8/site-packages (from requests->fsspec[http]>2021.06.0->pytorch-lightning) (3.4)\r\n",
      "Requirement already satisfied: certifi>=2017.4.17 in /Users/fedor/opt/anaconda3/lib/python3.8/site-packages (from requests->fsspec[http]>2021.06.0->pytorch-lightning) (2022.9.24)\r\n"
     ]
    }
   ],
   "source": [
    "# Данная библиотека понадобится нам, чтобы обработать разметку\n",
    "! pip install xmltodict pytorch-lightning"
   ]
  },
  {
   "cell_type": "markdown",
   "metadata": {
    "id": "hNSQ7FNss30F",
    "pycharm": {
     "name": "#%% md\n"
    }
   },
   "source": [
    "Скачаем данные"
   ]
  },
  {
   "cell_type": "code",
   "execution_count": 3,
   "metadata": {
    "colab": {
     "base_uri": "https://localhost:8080/"
    },
    "id": "lN1dE6eY7PjV",
    "outputId": "beb005ec-2b9b-42ab-c294-127ee4ec4b39",
    "pycharm": {
     "name": "#%%\n"
    }
   },
   "outputs": [
    {
     "name": "stdout",
     "output_type": "stream",
     "text": [
      "total 64\r\n",
      "drwxr-xr-x  4 fedor  staff    128 Dec  1 12:27 \u001B[34m__MACOSX\u001B[m\u001B[m\r\n",
      "drwx------  5 fedor  staff    160 Nov 26 11:32 \u001B[34mdata\u001B[m\u001B[m\r\n",
      "-rw-r--r--  1 fedor  staff  31386 Dec  1 12:27 hw3.ipynb.ipynb\r\n"
     ]
    }
   ],
   "source": [
    "!wget --quiet --load-cookies /tmp/cookies.txt \"https://docs.google.com/uc?export=download&confirm=$(wget --quiet --save-cookies /tmp/cookies.txt --keep-session-cookies --no-check-certificate 'https://drive.google.com/uc?export=download&id=1d8GSfZoWbraWCSUhX78yl4CnMFYE-5n3' -O- | sed -rn 's/.*confirm=([0-9A-Za-z_]+).*/\\1\\n/p')&id=1d8GSfZoWbraWCSUhX78yl4CnMFYE-5n3\" -O data.zip && rm -rf /tmp/cookies.txt\n",
    "!unzip -q data.zip\n",
    "!rm data.zip\n",
    "!ls -l"
   ]
  },
  {
   "cell_type": "markdown",
   "metadata": {
    "id": "Ep38vdW_s-Rz",
    "pycharm": {
     "name": "#%% md\n"
    }
   },
   "source": [
    "Посмотрим как выглядит один из файлов разметки"
   ]
  },
  {
   "cell_type": "code",
   "execution_count": 4,
   "metadata": {
    "colab": {
     "base_uri": "https://localhost:8080/"
    },
    "id": "OqwaHl3ntBaN",
    "outputId": "77ce5c63-e716-4a57-90a9-2179534fa789",
    "pycharm": {
     "name": "#%%\n"
    }
   },
   "outputs": [
    {
     "name": "stdout",
     "output_type": "stream",
     "text": [
      "<annotation>\r\n",
      "\t<folder>train</folder>\r\n",
      "\t<filename>apple_3.jpg</filename>\r\n",
      "\t<path>C:\\tensorflow1\\models\\research\\object_detection\\images\\train\\apple_3.jpg</path>\r\n",
      "\t<source>\r\n",
      "\t\t<database>Unknown</database>\r\n",
      "\t</source>\r\n",
      "\t<size>\r\n",
      "\t\t<width>1000</width>\r\n",
      "\t\t<height>708</height>\r\n",
      "\t\t<depth>3</depth>\r\n",
      "\t</size>\r\n",
      "\t<segmented>0</segmented>\r\n",
      "\t<object>\r\n",
      "\t\t<name>apple</name>\r\n",
      "\t\t<pose>Unspecified</pose>\r\n",
      "\t\t<truncated>1</truncated>\r\n",
      "\t\t<difficult>0</difficult>\r\n",
      "\t\t<bndbox>\r\n",
      "\t\t\t<xmin>584</xmin>\r\n",
      "\t\t\t<ymin>438</ymin>\r\n",
      "\t\t\t<xmax>867</xmax>\r\n",
      "\t\t\t<ymax>708</ymax>\r\n",
      "\t\t</bndbox>\r\n",
      "\t</object>\r\n",
      "\t<object>\r\n",
      "\t\t<name>apple</name>\r\n",
      "\t\t<pose>Unspecified</pose>\r\n",
      "\t\t<truncated>0</truncated>\r\n",
      "\t\t<difficult>0</difficult>\r\n",
      "\t\t<bndbox>\r\n",
      "\t\t\t<xmin>492</xmin>\r\n",
      "\t\t\t<ymin>141</ymin>\r\n",
      "\t\t\t<xmax>740</xmax>\r\n",
      "\t\t\t<ymax>394</ymax>\r\n",
      "\t\t</bndbox>\r\n",
      "\t</object>\r\n",
      "\t<object>\r\n",
      "\t\t<name>apple</name>\r\n",
      "\t\t<pose>Unspecified</pose>\r\n",
      "\t\t<truncated>0</truncated>\r\n",
      "\t\t<difficult>0</difficult>\r\n",
      "\t\t<bndbox>\r\n",
      "\t\t\t<xmin>176</xmin>\r\n",
      "\t\t\t<ymin>199</ymin>\r\n",
      "\t\t\t<xmax>490</xmax>\r\n",
      "\t\t\t<ymax>466</ymax>\r\n",
      "\t\t</bndbox>\r\n",
      "\t</object>\r\n",
      "\t<object>\r\n",
      "\t\t<name>apple</name>\r\n",
      "\t\t<pose>Unspecified</pose>\r\n",
      "\t\t<truncated>0</truncated>\r\n",
      "\t\t<difficult>0</difficult>\r\n",
      "\t\t<bndbox>\r\n",
      "\t\t\t<xmin>367</xmin>\r\n",
      "\t\t\t<ymin>17</ymin>\r\n",
      "\t\t\t<xmax>619</xmax>\r\n",
      "\t\t\t<ymax>240</ymax>\r\n",
      "\t\t</bndbox>\r\n",
      "\t</object>\r\n",
      "\t<object>\r\n",
      "\t\t<name>apple</name>\r\n",
      "\t\t<pose>Unspecified</pose>\r\n",
      "\t\t<truncated>0</truncated>\r\n",
      "\t\t<difficult>0</difficult>\r\n",
      "\t\t<bndbox>\r\n",
      "\t\t\t<xmin>642</xmin>\r\n",
      "\t\t\t<ymin>35</ymin>\r\n",
      "\t\t\t<xmax>907</xmax>\r\n",
      "\t\t\t<ymax>269</ymax>\r\n",
      "\t\t</bndbox>\r\n",
      "\t</object>\r\n",
      "</annotation>\r\n"
     ]
    }
   ],
   "source": [
    "!cat data/train/apple_3.xml"
   ]
  },
  {
   "cell_type": "markdown",
   "metadata": {
    "id": "QdQxrA5_MpSg",
    "pycharm": {
     "name": "#%% md\n"
    }
   },
   "source": [
    "## Релизуйте выборку для YoloV1 - 2 балла"
   ]
  },
  {
   "cell_type": "code",
   "execution_count": 5,
   "metadata": {
    "id": "QXG9reop-BkS",
    "pycharm": {
     "name": "#%%\n"
    }
   },
   "outputs": [],
   "source": [
    "import os\n",
    "import cv2\n",
    "import json\n",
    "import glob\n",
    "import tqdm\n",
    "import xmltodict\n",
    "\n",
    "from IPython.core.display import struct\n",
    "\n",
    "from typing import List\n",
    "\n",
    "import pandas as pd\n",
    "import numpy as np\n",
    "\n",
    "import torch\n",
    "import torchvision\n",
    "from torch import nn\n",
    "from torch.nn import functional as F\n",
    "from torch.utils.data import Dataset, DataLoader\n",
    "\n",
    "import pytorch_lightning as pl\n",
    "\n",
    "import albumentations as A\n",
    "import albumentations.pytorch\n",
    "\n",
    "from PIL import Image\n",
    "\n",
    "import matplotlib.pyplot as plt\n",
    "\n",
    "from sklearn.metrics import auc\n",
    "# Добавьте необходимые вам библиотеки, если их не окажется в списке выше\n",
    "\n",
    "import xml.etree.ElementTree as ET #for xml parsing"
   ]
  },
  {
   "cell_type": "markdown",
   "metadata": {
    "id": "2gL8_CyyTYJ-",
    "pycharm": {
     "name": "#%% md\n"
    }
   },
   "source": [
    "Так как в этом домашнем задании использовать аугментации для обучения __обязательно__ - советуем воспользоваться библиотекой albumentations.\n",
    "\n",
    "Она  особенно удобна, поскольку умеет сама вычислять новые координаты bounding box'ов после трансформаций картинки. Для знакомства с этим механизмом советуем следующий [гайд](https://albumentations.ai/docs/getting_started/bounding_boxes_augmentation/). \n",
    "\n",
    "Вы все еще можете избрать путь torchvision.transforms, вам потребуется знакомый нам метод `__getitem__`, однако вычислять новые координаты bounding box'ов после трансформаций вам придётся вручную\n",
    "\n",
    "__Обратите внимание__ на то, что в статье коробки предсказаний параметризуются через: _(x_center, y_center, width, height)_ (причем эти значения _относительные_), а в наших файлах - это _(x_min, y_min, x_max, y_max)_\n",
    "\n",
    "Также, помните что модель должна предсказывать как прямоугольник с обьектом, так и вероятности каждого класса!"
   ]
  },
  {
   "cell_type": "code",
   "execution_count": 47,
   "outputs": [
    {
     "data": {
      "text/plain": "True"
     },
     "execution_count": 47,
     "metadata": {},
     "output_type": "execute_result"
    }
   ],
   "source": [
    "def biection(data_dir):\n",
    "    \"\"\"\"\n",
    "    Сопоставляет каждой картинке и таблице в папке номер\n",
    "    -------------------------\n",
    "    return: словарь с ключами - названием картинки/таблицы, объектами - номерами\n",
    "    \"\"\"\n",
    "    w_path = os.path.join(os.getcwd(),data_dir)\n",
    "    answ = {}\n",
    "    count = 0\n",
    "    for filename in os.listdir(w_path):\n",
    "        name =  filename.split(\".\")[0]\n",
    "        if name not in answ.keys():\n",
    "            answ[name] = count\n",
    "            count += 1\n",
    "    return answ\n",
    "\n",
    "2 * len(biection(\"./data/test\")) == len(os.listdir(os.path.join(os.getcwd(),\"./data/test\")))"
   ],
   "metadata": {
    "collapsed": false,
    "pycharm": {
     "name": "#%%\n"
    }
   }
  },
  {
   "cell_type": "code",
   "execution_count": 112,
   "outputs": [],
   "source": [
    "def get_paths(names_to_num, data_dir):\n",
    "    \"\"\"\"\n",
    "    Возвращает словарь путей до картинок и таблиц с коробками, причём\n",
    "    индексация в различных словарях совпадает\n",
    "    -------------------------\n",
    "    return: словарь с ключами - цифрами, объектами - ссылки\n",
    "    \"\"\"\n",
    "    w_path = os.path.join(os.getcwd(),data_dir)\n",
    "    i_path = {}\n",
    "    b_path = {}\n",
    "    for name in list(names_to_num.keys())[0:10]:\n",
    "        num = names_to_num[name]\n",
    "        i_path[num] = os.path.join(w_path,(name + \".jpg\"))\n",
    "        b_path[num] = os.path.join(w_path,(name + \".xml\"))\n",
    "    return i_path, b_path"
   ],
   "metadata": {
    "collapsed": false,
    "pycharm": {
     "name": "#%%\n"
    }
   }
  },
  {
   "cell_type": "code",
   "execution_count": 113,
   "outputs": [],
   "source": [
    "path_1 = '/Users/fedor/DataspellProjects/IDA_HW_3/data/test/orange_77.jpg'\n",
    "h = np.array(Image.open(path_1).convert(\"RGB\")).shape[0]\n",
    "w = np.array(Image.open(path_1).convert(\"RGB\")).shape[1]"
   ],
   "metadata": {
    "collapsed": false,
    "pycharm": {
     "name": "#%%\n"
    }
   }
  },
  {
   "cell_type": "code",
   "execution_count": 172,
   "metadata": {
    "id": "tjZkU0vzMpSh",
    "pycharm": {
     "name": "#%%\n"
    }
   },
   "outputs": [],
   "source": [
    "class2tag = {\"apple\": 1, \"orange\": 2, \"banana\": 3}\n",
    "\n",
    "class FruitDataset(Dataset):\n",
    "    def __init__(self, data_dir, transforms=None):\n",
    "        self.biection = biection(data_dir)\n",
    "        self.image_paths , self.box_paths = get_paths(self.biection, data_dir)\n",
    "        assert len(self.image_paths) == len(self.box_paths)\n",
    "        self.transforms = transforms\n",
    "\n",
    "\n",
    "    def __getitem__(self, idx):\n",
    "        image = np.array( Image.open(self.image_paths[idx]).convert(\"RGB\") )\n",
    "        bboxes, class_labels = self.__get_boxes_from_xml(self.box_paths[idx])\n",
    "\n",
    "        bboxes = (\n",
    "            self.__convert_to_yolo_box_params(\n",
    "                                        bboxes,\n",
    "                                        image.shape[1],\n",
    "                                        image.shape[0])\n",
    "                                                )\n",
    "\n",
    "        if self.transforms:\n",
    "            transformed = self.transforms(image = image, bboxes = bboxes, class_labels = class_labels)\n",
    "            bboxes = transformed['bboxes']\n",
    "            image = transformed['image']\n",
    "            class_labels =  transformed['class_labels']\n",
    "\n",
    "        return torch.Tensor(image), (bboxes, class_labels)\n",
    "\n",
    "    def __len__(self):\n",
    "        return len(self.image_paths)\n",
    "\n",
    "    def __get_boxes_from_xml(self, xml_filename: str):\n",
    "        \"\"\"\n",
    "          Метод, который считает и распарсит (с помощью xmltodict) переданный xml\n",
    "          файл и вернет координаты прямоугольников объектов на соответсвующей фотографии\n",
    "          и название класса обьекта в каждом прямоугольнике\n",
    "        --------------------------\n",
    "        return:\n",
    "        boxes - format lists of lists [xmin, ymin, xmax, ymax]\n",
    "        name - list of\n",
    "        \"\"\"\n",
    "        root_node = ET.parse(xml_filename).getroot()\n",
    "        boxes = []\n",
    "        class_labels = []\n",
    "\n",
    "        for object in root_node.iter('object'):# Get the value from the attribute 'object'\n",
    "            name = object.find('name').text\n",
    "            xmin = int(object.find('bndbox').find('xmin').text)\n",
    "            ymin = int(object.find('bndbox').find('ymin').text)\n",
    "            xmax=  int(object.find('bndbox').find('xmax').text)\n",
    "            ymax = int(object.find('bndbox').find('ymax').text)\n",
    "\n",
    "            boxes.append([xmin, ymin, xmax, ymax])\n",
    "            class_labels.append(class2tag[name])\n",
    "\n",
    "        return boxes, class_labels\n",
    "\n",
    "    def __convert_to_yolo_box_params(self, all_box_coordinates: List[int], im_w, im_h):\n",
    "        \"\"\"\n",
    "        Перейти от [xmin, ymin, xmax, ymax] к [x_center, y_center, width, height].\n",
    "\n",
    "        Обратите внимание, что параметры [x_center, y_center, width, height] - это\n",
    "        относительные значение в отрезке [0, 1]\n",
    "\n",
    "        :param: box_coordinates - координаты коробки в формате [xmin, ymin, xmax, ymax]\n",
    "        :param: im_w - ширина исходного изображения\n",
    "        :param: im_h - высота исходного изображения\n",
    "\n",
    "        :return: координаты коробки в формате [x_center, y_center, width, height]\n",
    "        \"\"\"\n",
    "        totall_anw = []\n",
    "        for box_coordinates in all_box_coordinates:\n",
    "            ans = []\n",
    "            ans.append((box_coordinates[0] + box_coordinates[2]) / 2 / im_w)  # x_center\n",
    "            ans.append((box_coordinates[1] + box_coordinates[3]) / 2 / im_h)  # y_center\n",
    "\n",
    "            ans.append((box_coordinates[2] - box_coordinates[0]) / im_w)  # width\n",
    "            ans.append((box_coordinates[3] - box_coordinates[1]) / im_h)  # height\n",
    "            totall_anw.append(ans)\n",
    "\n",
    "        return totall_anw"
   ]
  },
  {
   "cell_type": "code",
   "execution_count": 173,
   "metadata": {
    "id": "OwXeSiAjdGeq",
    "pycharm": {
     "name": "#%%\n"
    }
   },
   "outputs": [],
   "source": [
    "WIDTH, HEIGHT = 448, 448\n",
    "\n",
    "train_transform = A.Compose([\n",
    "    albumentations.augmentations.geometric.resize.Resize(height=HEIGHT, width = WIDTH),\n",
    "    A.RandomRotate90(p=0.3),\n",
    "    A.HorizontalFlip(p=0.3),\n",
    "    A.Transpose(p=0.3),\n",
    "    A.PixelDropout(p=0.5),\n",
    "    A.Blur(blur_limit=(3,4), p=0.5)\n",
    "                            ],\n",
    "                             bbox_params=A.BboxParams(format='yolo',\n",
    "                                                      label_fields=['class_labels']))\n",
    "test_transform = A.Compose([\n",
    "    albumentations.augmentations.geometric.resize.Resize(height=HEIGHT, width = WIDTH)\n",
    "                            ],\n",
    "                            bbox_params=A.BboxParams(format='yolo',\n",
    "                                                     label_fields=['class_labels']))"
   ]
  },
  {
   "cell_type": "code",
   "execution_count": 174,
   "metadata": {
    "colab": {
     "base_uri": "https://localhost:8080/"
    },
    "id": "ayPwbRKocdCE",
    "outputId": "c7ec7134-c763-435c-a575-de2e16122a82",
    "pycharm": {
     "name": "#%%\n"
    }
   },
   "outputs": [
    {
     "name": "stdout",
     "output_type": "stream",
     "text": [
      "Тесты успешно пройдены\n"
     ]
    }
   ],
   "source": [
    "train_dataset = FruitDataset(\n",
    "    transforms=train_transform,\n",
    "    data_dir=\"./data/train\"\n",
    "    )\n",
    "\n",
    "val_dataset = FruitDataset(\n",
    "    transforms=test_transform, \n",
    "    data_dir=\"./data/test\"\n",
    "    )\n",
    "\n",
    "# Немного проверок, чтобы убедиться в правильности направления решения\n",
    "assert isinstance(train_dataset[0], tuple)\n",
    "assert len(train_dataset[0]) == 2\n",
    "assert isinstance(train_dataset[0][0], torch.Tensor)\n",
    "assert isinstance(train_dataset[0][1], tuple)\n",
    "assert len(train_dataset[0][1]) == 2\n",
    "print(\"Тесты успешно пройдены\")"
   ]
  },
  {
   "cell_type": "code",
   "execution_count": 175,
   "metadata": {
    "id": "9V1Tl_GAdeIv",
    "pycharm": {
     "name": "#%%\n"
    }
   },
   "outputs": [],
   "source": [
    "train_dataloader = DataLoader(\n",
    "    dataset=train_dataset,\n",
    "    batch_size= 4,\n",
    "    shuffle=True)\n",
    "\n",
    "val_dataloader = DataLoader(\n",
    "    dataset=val_dataset,\n",
    "    batch_size=4, \n",
    "    shuffle=False\n",
    "    )"
   ]
  },
  {
   "cell_type": "markdown",
   "metadata": {
    "id": "0fRR9ns6MpSh",
    "pycharm": {
     "name": "#%% md\n"
    }
   },
   "source": [
    "Теперь определим функцию для рассчета Intersection Over Union по 4 углам двух прямоугольников"
   ]
  },
  {
   "cell_type": "code",
   "execution_count": null,
   "metadata": {
    "id": "Rd88hnZiMpSh",
    "pycharm": {
     "name": "#%%\n"
    }
   },
   "outputs": [],
   "source": [
    "def intersection_over_union(predicted_bbox, gt_bbox) -> float:\n",
    "    \"\"\"\n",
    "    Intersection Over Union для двух прямоугольников\n",
    "\n",
    "    :param: dt_bbox - [x_min, y_min, x_max, y_max]\n",
    "    :param: gt_bbox - [x_min, y_min, x_max, y_max]\n",
    "    \n",
    "    :return: Intersection Over Union\n",
    "    \"\"\"\n",
    "\n",
    "    intersection_bbox = np.array(\n",
    "        [\n",
    "            max(predicted_bbox[0], gt_bbox[0]),\n",
    "            max(predicted_bbox[1], gt_bbox[1]),\n",
    "            min(predicted_bbox[2], gt_bbox[2]),\n",
    "            min(predicted_bbox[3], gt_bbox[3]),\n",
    "        ]\n",
    "    )\n",
    "\n",
    "    intersection_area = max(intersection_bbox[2] - intersection_bbox[0], 0) * max(\n",
    "        intersection_bbox[3] - intersection_bbox[1], 0\n",
    "    )\n",
    "    area_dt = (predicted_bbox[2] - predicted_bbox[0]) * (predicted_bbox[3] - predicted_bbox[1])\n",
    "    area_gt = (gt_bbox[2] - gt_bbox[0]) * (gt_bbox[3] - gt_bbox[1])\n",
    "\n",
    "    union_area = area_dt + area_gt - intersection_area\n",
    "\n",
    "    iou = intersection_area / union_area\n",
    "    return iou"
   ]
  },
  {
   "cell_type": "markdown",
   "metadata": {
    "id": "dVJWo3xbMpSh",
    "pycharm": {
     "name": "#%% md\n"
    }
   },
   "source": [
    "Теперь начинается основная часть домашнего задания: обучите модель YOLO для object detection на __обучающем__ датасете. \n",
    "\n",
    " - Создайте модель и функцию ошибки YoloV1 прочитав [оригинальную статью](https://paperswithcode.com/paper/you-only-look-once-unified-real-time-object)\n",
    " - Напишите функцию обучения модели\n",
    " - Используйте аугментации"
   ]
  },
  {
   "cell_type": "markdown",
   "metadata": {
    "id": "RxfMVwzHW2MJ",
    "pycharm": {
     "name": "#%% md\n"
    }
   },
   "source": [
    "## Реализуйте Модель - 2 балла\n",
    "\n",
    "Копировать точное количество слоев и параметры сверток необязательно. Главное - чтобы модель работала по принципу, описанному в статье и делала предсказание в представленном формате.\n",
    "\n",
    "\n",
    "В качестве подсказки напомним, что выходом модели __для каждого обьекта__ должен быть тензор размера\n",
    "__S * S * (B * 5 + С)__, где все параметры имеют такое же значение, как и в статье: \n",
    "\n",
    "- S - количество ячеек на которое разбивается изображение по вертикали/горизонтали\n",
    "- В - количество предсказываемых прямоугольников в каждой ячейке\n",
    "- 5 - количество параметров для определения каждого прямоугольника (x_center, y_center, width, height, confidence)\n",
    "- С - количество классов (apple, banana, orange)\n",
    "\n",
    "Таким образом, мы для каждого окна размера __S x S__ предсказываем __В__ коробо и один класс"
   ]
  },
  {
   "cell_type": "code",
   "execution_count": null,
   "metadata": {
    "id": "3PJwrvcWW1n7",
    "pycharm": {
     "name": "#%%\n"
    }
   },
   "outputs": [],
   "source": [
    "class CNNBlock(nn.Module):  # можно поменять на Lightning\n",
    "    def __init__(self, in_channels, out_channels, is_max_pool:bool=False, **kwargs):\n",
    "        \n",
    "        super().__init__()\n",
    "\n",
    "        self.conv = nn.Conv2d(in_channels, out_channels, **kwargs)\n",
    "        self.batchnorm = nn.BatchNorm2d(out_channels)  # в статье еще не знали про батчнорм, но мы то из будущего ...\n",
    "        self.leakyrelu = nn.LeakyReLU(0.1)\n",
    "\n",
    "        self.is_maxpool = is_max_pool  # не после каждой свертки нужно делать maxpool\n",
    "        self.maxpool = nn.MaxPool2d(2)\n",
    "        \n",
    "    def forward(self, x):\n",
    "        x = self.leakyrelu(self.batchnorm(self.conv(x)))\n",
    "\n",
    "        if self.is_maxpool:\n",
    "            x = self.maxpool(x)\n",
    "\n",
    "        return x\n",
    "    \n",
    "class YOLO(nn.Module):\n",
    "    def __init__(self, S=7, B=2, C=3):\n",
    "        \"\"\"\n",
    "        :param: S * S - количество ячеек на которые разбивается изображение\n",
    "        :param: B - количество предсказанных прямоугольников в каждой ячейке\n",
    "        :param: C - количество классов\n",
    "        \"\"\"\n",
    "        \n",
    "        super(YOLO, self).__init__()\n",
    "\n",
    "        self.S = S\n",
    "        self.B = B\n",
    "        self.C = C\n",
    "\n",
    "        ## YOUR CODE\n",
    "        \n",
    "        ## YOUR CODE\n",
    "\n",
    "    def forward(self, x):\n",
    "        \n",
    "        ## YOUR CODE\n",
    "        \n",
    "        pass\n",
    "\n",
    "\n",
    "temp_model = YOLO()\n",
    "expected_output_shape = temp_model.S * temp_model.S * (5 * temp_model.B + temp_model.C)\n",
    "\n",
    "assert temp_model(train_dataset[0][0]).reshape(-1).shape[0] == expected_output_shape"
   ]
  },
  {
   "cell_type": "markdown",
   "metadata": {
    "id": "OJIjWKbcYUYe",
    "pycharm": {
     "name": "#%% md\n"
    }
   },
   "source": [
    "## Реализуйте YoloLoss - 3 балла"
   ]
  },
  {
   "cell_type": "code",
   "execution_count": null,
   "metadata": {
    "id": "TwJZ7o0BYTbB",
    "pycharm": {
     "name": "#%%\n"
    }
   },
   "outputs": [],
   "source": [
    "class YoloLoss(nn.Module):\n",
    "    def __init__(self, S=7, B=2, C=3):\n",
    "        \"\"\"\n",
    "        :param: S * S - количество ячеек на которые разбивается изображение\n",
    "        :param: B - количество предсказанных прямоугольников в каждой ячейке\n",
    "        :param: C - количество классов\n",
    "        \"\"\"\n",
    "        \n",
    "        super().__init__()\n",
    "        self.mse = nn.MSELoss(reduction=\"sum\")\n",
    "\n",
    "        self.S = S\n",
    "        self.B = B\n",
    "        self.C = C\n",
    "\n",
    "        self.lambda_noobj = 0.5\n",
    "        self.lambda_coord = 5\n",
    "\n",
    "    def forward(self, predictions, target):\n",
    "        ## YOUR CODE\n",
    "        pass"
   ]
  },
  {
   "cell_type": "markdown",
   "metadata": {
    "id": "aZ1eev1EeNk7",
    "pycharm": {
     "name": "#%% md\n"
    }
   },
   "source": [
    "## Реализуйте дополнительные функции из статьи - 2 балла"
   ]
  },
  {
   "cell_type": "code",
   "execution_count": null,
   "metadata": {
    "id": "OMF8e6yXU6QV",
    "pycharm": {
     "name": "#%%\n"
    }
   },
   "outputs": [],
   "source": [
    "def non_max_suppression(bboxes, iou_threshold, threshold):\n",
    "    ## YOUR CODE\n",
    "    pass\n",
    "\n",
    "def mean_average_precision(pred_boxes, true_boxes, iou_threshold=0.5):\n",
    "    ## YOUR CODE\n",
    "    pass\n",
    "\n",
    "def get_bound_boxes(loader, model, iou_threshold=.5, threshold=.4):\n",
    "    ## YOUR CODE\n",
    "    return all_pred_boxes, all_true_boxes"
   ]
  },
  {
   "cell_type": "markdown",
   "metadata": {
    "id": "z38hYLM6haDk",
    "pycharm": {
     "name": "#%% md\n"
    }
   },
   "source": [
    "## Обучите модель и посчитайте метрики для задачи детекции - 2 балла \n",
    "\n",
    "Несмотря на то, что в этом блоке ничего сильно нового для вас не ожидается и за него формально дается лишь два балла - провести обучение очень важно для понимания того, насколько правильно реализована ваша модель и лосс.\n",
    "\n",
    "В процессе обучения будет видно все ли размерности совпадают, падает ли лосс и растут ли метрики целевой задачи, поэтому на практике этот пункт гораздо оказывается гораздо важнее."
   ]
  },
  {
   "cell_type": "code",
   "execution_count": null,
   "metadata": {
    "id": "6BTNHNqtMpSi",
    "pycharm": {
     "name": "#%%\n"
    }
   },
   "outputs": [],
   "source": [
    "class YOLOLearner(pl.LightningModule):\n",
    "    def __init__(self) -> None:\n",
    "        super().__init__()\n",
    "\n",
    "        self.model = YOLO()\n",
    "        self.loss = YoloLoss()\n",
    "        self.optimizer = torch.optim.Adam(self.model.parameters(), lr=1e-3)\n",
    "\n",
    "    def forward(self, x) -> torch.Tensor:\n",
    "        return self.model(x)\n",
    "\n",
    "    def configure_optimizers(self):\n",
    "        return self.optimizer\n",
    "\n",
    "    def training_step(self, train_batch, batch_idx) -> torch.Tensor:\n",
    "        ## YOUR CODE\n",
    "        pass\n",
    "\n",
    "    def validation_step(self, val_batch, batch_idx) -> None:\n",
    "        ## YOUR CODE\n",
    "        pass"
   ]
  },
  {
   "cell_type": "code",
   "execution_count": null,
   "metadata": {
    "id": "sRl42I2xMpSi",
    "pycharm": {
     "name": "#%%\n"
    }
   },
   "outputs": [],
   "source": [
    "model = # YOUR CODE\n",
    "n_epochs = # YOUR CODE\n",
    "\n",
    "yolo_learner = YOLOLearner(...)  ## YOUR CODE\n",
    "\n",
    "device = \"gpu\" if torch.cuda.is_available() else \"cpu\"\n",
    "trainer = pl.Trainer(accelerator=device, max_epochs=n_epochs)\n",
    "\n",
    "trainer.fit(yolo_learner, train_dataloader, val_dataloader)"
   ]
  },
  {
   "cell_type": "markdown",
   "metadata": {
    "id": "eb7ioohR96vu",
    "pycharm": {
     "name": "#%% md\n"
    }
   },
   "source": [
    "## Посчитайте метрики задачи детекции на валидационной выборке\n",
    "\n",
    "Попробуйте понять насколько хороши ваши показатели. Если числа кажутся подозрительно низкими - возможно вам стоит перепроверить ваше решение. "
   ]
  },
  {
   "cell_type": "code",
   "execution_count": null,
   "metadata": {
    "id": "WUnlNeot98un",
    "pycharm": {
     "name": "#%%\n"
    }
   },
   "outputs": [],
   "source": [
    "## YOUR CODE"
   ]
  },
  {
   "cell_type": "markdown",
   "metadata": {
    "id": "o_YG71pYMpSi",
    "pycharm": {
     "name": "#%% md\n"
    }
   },
   "source": [
    "## Визуализируйте предсказанные bounding box'ы для любых пяти картинок из __валидационного__ датасета."
   ]
  },
  {
   "cell_type": "code",
   "execution_count": null,
   "metadata": {
    "id": "WgVdVzvMMpSi",
    "pycharm": {
     "name": "#%%\n"
    }
   },
   "outputs": [],
   "source": [
    "image, targets = next(iter(val_dataset))\n",
    "preds = ## YOUR CODE"
   ]
  },
  {
   "cell_type": "code",
   "execution_count": null,
   "metadata": {
    "id": "tpp4jHs0MpSi",
    "pycharm": {
     "name": "#%%\n"
    }
   },
   "outputs": [],
   "source": [
    "from PIL import ImageDraw\n",
    "\n",
    "image = torchvision.transform.ToPILImage()(image)\n",
    "draw = ImageDraw.Draw(image)\n",
    "\n",
    "for box in targets[0]:\n",
    "    ## YOUR CODE\n",
    "    draw.rectangle([(box[0], box[1]), (box[2], box[3])])\n",
    "\n",
    "for box in preds[0]:\n",
    "    ## YOUR CODE\n",
    "    draw.rectangle([(box[0], box[1]), (box[2], box[3])], outline='red')\n",
    "image"
   ]
  }
 ],
 "metadata": {
  "colab": {
   "provenance": []
  },
  "kernelspec": {
   "display_name": "Python 3 (ipykernel)",
   "language": "python",
   "name": "python3"
  },
  "language_info": {
   "codemirror_mode": {
    "name": "ipython",
    "version": 3
   },
   "file_extension": ".py",
   "mimetype": "text/x-python",
   "name": "python",
   "nbconvert_exporter": "python",
   "pygments_lexer": "ipython3",
   "version": "3.8.8"
  }
 },
 "nbformat": 4,
 "nbformat_minor": 1
}